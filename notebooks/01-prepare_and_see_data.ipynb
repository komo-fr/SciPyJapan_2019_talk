{
 "cells": [
  {
   "cell_type": "markdown",
   "metadata": {},
   "source": [
    "**Version:**   \n",
    "NetworkX 2.2 or higher"
   ]
  },
  {
   "cell_type": "code",
   "execution_count": 1,
   "metadata": {
    "ExecuteTime": {
     "end_time": "2019-04-25T09:35:54.510449Z",
     "start_time": "2019-04-25T09:35:53.825319Z"
    },
    "hide_input": false,
    "slideshow": {
     "slide_type": "-"
    }
   },
   "outputs": [
    {
     "data": {
      "text/plain": [
       "'2.3'"
      ]
     },
     "execution_count": 1,
     "metadata": {},
     "output_type": "execute_result"
    }
   ],
   "source": [
    "import pandas as pd\n",
    "import networkx as nx\n",
    "\n",
    "nx.__version__"
   ]
  },
  {
   "cell_type": "markdown",
   "metadata": {
    "slideshow": {
     "slide_type": "-"
    }
   },
   "source": [
    "# Data\n",
    "- Link Information (Reference Relationship of PEPs)\n",
    "    - adjacency_matrix.csv\n",
    "- PEP Headers\n",
    "    - pep_header.csv"
   ]
  },
  {
   "cell_type": "code",
   "execution_count": 2,
   "metadata": {
    "ExecuteTime": {
     "end_time": "2019-04-25T09:35:55.522591Z",
     "start_time": "2019-04-25T09:35:55.386060Z"
    },
    "scrolled": true
   },
   "outputs": [
    {
     "name": "stdout",
     "output_type": "stream",
     "text": [
      "adjacency_matrix.csv  pep_header.csv\r\n"
     ]
    }
   ],
   "source": [
    "%ls ../data/input/20190401"
   ]
  },
  {
   "cell_type": "markdown",
   "metadata": {},
   "source": [
    "# Make a Network Structure Data from Link Information\n",
    "## Link Information (Reference Relationship of PEPs)\n",
    "<img src=\"../images/links.png\">\n",
    "<img src=\"../images/arrow.png\">\n",
    "<img src=\"../images/pep_graph.png\">"
   ]
  },
  {
   "cell_type": "markdown",
   "metadata": {},
   "source": [
    "## Data Representation\n",
    "The network structure is represented by an adjacency matrix or edge list.   \n",
    "Here we use the adjacency matrix.   \n",
    "\n",
    "<img src=\"../images/adj_matrix_and_edge_list.png\">"
   ]
  },
  {
   "cell_type": "markdown",
   "metadata": {},
   "source": [
    "## Load and Preprocess"
   ]
  },
  {
   "cell_type": "code",
   "execution_count": 3,
   "metadata": {
    "ExecuteTime": {
     "end_time": "2019-04-25T09:35:57.358227Z",
     "start_time": "2019-04-25T09:35:57.131892Z"
    }
   },
   "outputs": [
    {
     "name": "stdout",
     "output_type": "stream",
     "text": [
      "(486, 486)\n"
     ]
    },
    {
     "data": {
      "text/html": [
       "<div>\n",
       "<style scoped>\n",
       "    .dataframe tbody tr th:only-of-type {\n",
       "        vertical-align: middle;\n",
       "    }\n",
       "\n",
       "    .dataframe tbody tr th {\n",
       "        vertical-align: top;\n",
       "    }\n",
       "\n",
       "    .dataframe thead th {\n",
       "        text-align: right;\n",
       "    }\n",
       "</style>\n",
       "<table border=\"1\" class=\"dataframe\">\n",
       "  <thead>\n",
       "    <tr style=\"text-align: right;\">\n",
       "      <th></th>\n",
       "      <th>0001</th>\n",
       "      <th>0002</th>\n",
       "      <th>0003</th>\n",
       "      <th>0004</th>\n",
       "      <th>0005</th>\n",
       "      <th>0006</th>\n",
       "      <th>0007</th>\n",
       "      <th>0008</th>\n",
       "      <th>0009</th>\n",
       "      <th>0010</th>\n",
       "      <th>...</th>\n",
       "      <th>8001</th>\n",
       "      <th>8002</th>\n",
       "      <th>8010</th>\n",
       "      <th>8011</th>\n",
       "      <th>8012</th>\n",
       "      <th>8013</th>\n",
       "      <th>8014</th>\n",
       "      <th>8015</th>\n",
       "      <th>8016</th>\n",
       "      <th>8100</th>\n",
       "    </tr>\n",
       "    <tr>\n",
       "      <th>link_source_pep_id</th>\n",
       "      <th></th>\n",
       "      <th></th>\n",
       "      <th></th>\n",
       "      <th></th>\n",
       "      <th></th>\n",
       "      <th></th>\n",
       "      <th></th>\n",
       "      <th></th>\n",
       "      <th></th>\n",
       "      <th></th>\n",
       "      <th></th>\n",
       "      <th></th>\n",
       "      <th></th>\n",
       "      <th></th>\n",
       "      <th></th>\n",
       "      <th></th>\n",
       "      <th></th>\n",
       "      <th></th>\n",
       "      <th></th>\n",
       "      <th></th>\n",
       "      <th></th>\n",
       "    </tr>\n",
       "  </thead>\n",
       "  <tbody>\n",
       "    <tr>\n",
       "      <th>0001</th>\n",
       "      <td>1</td>\n",
       "      <td>3</td>\n",
       "      <td>0</td>\n",
       "      <td>0</td>\n",
       "      <td>0</td>\n",
       "      <td>0</td>\n",
       "      <td>2</td>\n",
       "      <td>2</td>\n",
       "      <td>3</td>\n",
       "      <td>0</td>\n",
       "      <td>...</td>\n",
       "      <td>0</td>\n",
       "      <td>0</td>\n",
       "      <td>0</td>\n",
       "      <td>0</td>\n",
       "      <td>0</td>\n",
       "      <td>0</td>\n",
       "      <td>0</td>\n",
       "      <td>0</td>\n",
       "      <td>0</td>\n",
       "      <td>0</td>\n",
       "    </tr>\n",
       "    <tr>\n",
       "      <th>0002</th>\n",
       "      <td>2</td>\n",
       "      <td>0</td>\n",
       "      <td>1</td>\n",
       "      <td>2</td>\n",
       "      <td>1</td>\n",
       "      <td>0</td>\n",
       "      <td>0</td>\n",
       "      <td>0</td>\n",
       "      <td>0</td>\n",
       "      <td>0</td>\n",
       "      <td>...</td>\n",
       "      <td>0</td>\n",
       "      <td>0</td>\n",
       "      <td>0</td>\n",
       "      <td>0</td>\n",
       "      <td>0</td>\n",
       "      <td>0</td>\n",
       "      <td>0</td>\n",
       "      <td>0</td>\n",
       "      <td>0</td>\n",
       "      <td>0</td>\n",
       "    </tr>\n",
       "    <tr>\n",
       "      <th>0003</th>\n",
       "      <td>0</td>\n",
       "      <td>0</td>\n",
       "      <td>0</td>\n",
       "      <td>0</td>\n",
       "      <td>0</td>\n",
       "      <td>0</td>\n",
       "      <td>0</td>\n",
       "      <td>0</td>\n",
       "      <td>0</td>\n",
       "      <td>0</td>\n",
       "      <td>...</td>\n",
       "      <td>0</td>\n",
       "      <td>0</td>\n",
       "      <td>0</td>\n",
       "      <td>0</td>\n",
       "      <td>0</td>\n",
       "      <td>0</td>\n",
       "      <td>0</td>\n",
       "      <td>0</td>\n",
       "      <td>0</td>\n",
       "      <td>0</td>\n",
       "    </tr>\n",
       "    <tr>\n",
       "      <th>0004</th>\n",
       "      <td>0</td>\n",
       "      <td>0</td>\n",
       "      <td>0</td>\n",
       "      <td>0</td>\n",
       "      <td>0</td>\n",
       "      <td>0</td>\n",
       "      <td>0</td>\n",
       "      <td>0</td>\n",
       "      <td>0</td>\n",
       "      <td>0</td>\n",
       "      <td>...</td>\n",
       "      <td>0</td>\n",
       "      <td>0</td>\n",
       "      <td>0</td>\n",
       "      <td>0</td>\n",
       "      <td>0</td>\n",
       "      <td>0</td>\n",
       "      <td>0</td>\n",
       "      <td>0</td>\n",
       "      <td>0</td>\n",
       "      <td>0</td>\n",
       "    </tr>\n",
       "    <tr>\n",
       "      <th>0005</th>\n",
       "      <td>0</td>\n",
       "      <td>0</td>\n",
       "      <td>0</td>\n",
       "      <td>0</td>\n",
       "      <td>0</td>\n",
       "      <td>0</td>\n",
       "      <td>0</td>\n",
       "      <td>0</td>\n",
       "      <td>0</td>\n",
       "      <td>0</td>\n",
       "      <td>...</td>\n",
       "      <td>0</td>\n",
       "      <td>0</td>\n",
       "      <td>0</td>\n",
       "      <td>0</td>\n",
       "      <td>0</td>\n",
       "      <td>0</td>\n",
       "      <td>0</td>\n",
       "      <td>0</td>\n",
       "      <td>0</td>\n",
       "      <td>0</td>\n",
       "    </tr>\n",
       "  </tbody>\n",
       "</table>\n",
       "<p>5 rows × 486 columns</p>\n",
       "</div>"
      ],
      "text/plain": [
       "                    0001  0002  0003  0004  0005  0006  0007  0008  0009  \\\n",
       "link_source_pep_id                                                         \n",
       "0001                   1     3     0     0     0     0     2     2     3   \n",
       "0002                   2     0     1     2     1     0     0     0     0   \n",
       "0003                   0     0     0     0     0     0     0     0     0   \n",
       "0004                   0     0     0     0     0     0     0     0     0   \n",
       "0005                   0     0     0     0     0     0     0     0     0   \n",
       "\n",
       "                    0010  ...   8001  8002  8010  8011  8012  8013  8014  \\\n",
       "link_source_pep_id        ...                                              \n",
       "0001                   0  ...      0     0     0     0     0     0     0   \n",
       "0002                   0  ...      0     0     0     0     0     0     0   \n",
       "0003                   0  ...      0     0     0     0     0     0     0   \n",
       "0004                   0  ...      0     0     0     0     0     0     0   \n",
       "0005                   0  ...      0     0     0     0     0     0     0   \n",
       "\n",
       "                    8015  8016  8100  \n",
       "link_source_pep_id                    \n",
       "0001                   0     0     0  \n",
       "0002                   0     0     0  \n",
       "0003                   0     0     0  \n",
       "0004                   0     0     0  \n",
       "0005                   0     0     0  \n",
       "\n",
       "[5 rows x 486 columns]"
      ]
     },
     "execution_count": 3,
     "metadata": {},
     "output_type": "execute_result"
    }
   ],
   "source": [
    "adj_df = pd.read_csv('../data/input/20190401/adjacency_matrix.csv',\n",
    "                     encoding='utf-8',\n",
    "                     dtype=dict(link_source_pep_id=str))\n",
    "adj_df = adj_df.set_index('link_source_pep_id')\n",
    "print(adj_df.shape)\n",
    "adj_df.head(5)"
   ]
  },
  {
   "cell_type": "markdown",
   "metadata": {},
   "source": [
    "Weight isn't considered this time. So, replace it with 1."
   ]
  },
  {
   "cell_type": "code",
   "execution_count": 4,
   "metadata": {
    "ExecuteTime": {
     "end_time": "2019-04-25T09:35:58.412533Z",
     "start_time": "2019-04-25T09:35:58.341706Z"
    }
   },
   "outputs": [
    {
     "data": {
      "text/html": [
       "<div>\n",
       "<style scoped>\n",
       "    .dataframe tbody tr th:only-of-type {\n",
       "        vertical-align: middle;\n",
       "    }\n",
       "\n",
       "    .dataframe tbody tr th {\n",
       "        vertical-align: top;\n",
       "    }\n",
       "\n",
       "    .dataframe thead th {\n",
       "        text-align: right;\n",
       "    }\n",
       "</style>\n",
       "<table border=\"1\" class=\"dataframe\">\n",
       "  <thead>\n",
       "    <tr style=\"text-align: right;\">\n",
       "      <th></th>\n",
       "      <th>0001</th>\n",
       "      <th>0002</th>\n",
       "      <th>0003</th>\n",
       "      <th>0004</th>\n",
       "      <th>0005</th>\n",
       "      <th>0006</th>\n",
       "      <th>0007</th>\n",
       "      <th>0008</th>\n",
       "      <th>0009</th>\n",
       "      <th>0010</th>\n",
       "      <th>...</th>\n",
       "      <th>8001</th>\n",
       "      <th>8002</th>\n",
       "      <th>8010</th>\n",
       "      <th>8011</th>\n",
       "      <th>8012</th>\n",
       "      <th>8013</th>\n",
       "      <th>8014</th>\n",
       "      <th>8015</th>\n",
       "      <th>8016</th>\n",
       "      <th>8100</th>\n",
       "    </tr>\n",
       "    <tr>\n",
       "      <th>link_source_pep_id</th>\n",
       "      <th></th>\n",
       "      <th></th>\n",
       "      <th></th>\n",
       "      <th></th>\n",
       "      <th></th>\n",
       "      <th></th>\n",
       "      <th></th>\n",
       "      <th></th>\n",
       "      <th></th>\n",
       "      <th></th>\n",
       "      <th></th>\n",
       "      <th></th>\n",
       "      <th></th>\n",
       "      <th></th>\n",
       "      <th></th>\n",
       "      <th></th>\n",
       "      <th></th>\n",
       "      <th></th>\n",
       "      <th></th>\n",
       "      <th></th>\n",
       "      <th></th>\n",
       "    </tr>\n",
       "  </thead>\n",
       "  <tbody>\n",
       "    <tr>\n",
       "      <th>0001</th>\n",
       "      <td>1</td>\n",
       "      <td>1</td>\n",
       "      <td>0</td>\n",
       "      <td>0</td>\n",
       "      <td>0</td>\n",
       "      <td>0</td>\n",
       "      <td>1</td>\n",
       "      <td>1</td>\n",
       "      <td>1</td>\n",
       "      <td>0</td>\n",
       "      <td>...</td>\n",
       "      <td>0</td>\n",
       "      <td>0</td>\n",
       "      <td>0</td>\n",
       "      <td>0</td>\n",
       "      <td>0</td>\n",
       "      <td>0</td>\n",
       "      <td>0</td>\n",
       "      <td>0</td>\n",
       "      <td>0</td>\n",
       "      <td>0</td>\n",
       "    </tr>\n",
       "    <tr>\n",
       "      <th>0002</th>\n",
       "      <td>1</td>\n",
       "      <td>0</td>\n",
       "      <td>1</td>\n",
       "      <td>1</td>\n",
       "      <td>1</td>\n",
       "      <td>0</td>\n",
       "      <td>0</td>\n",
       "      <td>0</td>\n",
       "      <td>0</td>\n",
       "      <td>0</td>\n",
       "      <td>...</td>\n",
       "      <td>0</td>\n",
       "      <td>0</td>\n",
       "      <td>0</td>\n",
       "      <td>0</td>\n",
       "      <td>0</td>\n",
       "      <td>0</td>\n",
       "      <td>0</td>\n",
       "      <td>0</td>\n",
       "      <td>0</td>\n",
       "      <td>0</td>\n",
       "    </tr>\n",
       "    <tr>\n",
       "      <th>0003</th>\n",
       "      <td>0</td>\n",
       "      <td>0</td>\n",
       "      <td>0</td>\n",
       "      <td>0</td>\n",
       "      <td>0</td>\n",
       "      <td>0</td>\n",
       "      <td>0</td>\n",
       "      <td>0</td>\n",
       "      <td>0</td>\n",
       "      <td>0</td>\n",
       "      <td>...</td>\n",
       "      <td>0</td>\n",
       "      <td>0</td>\n",
       "      <td>0</td>\n",
       "      <td>0</td>\n",
       "      <td>0</td>\n",
       "      <td>0</td>\n",
       "      <td>0</td>\n",
       "      <td>0</td>\n",
       "      <td>0</td>\n",
       "      <td>0</td>\n",
       "    </tr>\n",
       "    <tr>\n",
       "      <th>0004</th>\n",
       "      <td>0</td>\n",
       "      <td>0</td>\n",
       "      <td>0</td>\n",
       "      <td>0</td>\n",
       "      <td>0</td>\n",
       "      <td>0</td>\n",
       "      <td>0</td>\n",
       "      <td>0</td>\n",
       "      <td>0</td>\n",
       "      <td>0</td>\n",
       "      <td>...</td>\n",
       "      <td>0</td>\n",
       "      <td>0</td>\n",
       "      <td>0</td>\n",
       "      <td>0</td>\n",
       "      <td>0</td>\n",
       "      <td>0</td>\n",
       "      <td>0</td>\n",
       "      <td>0</td>\n",
       "      <td>0</td>\n",
       "      <td>0</td>\n",
       "    </tr>\n",
       "    <tr>\n",
       "      <th>0005</th>\n",
       "      <td>0</td>\n",
       "      <td>0</td>\n",
       "      <td>0</td>\n",
       "      <td>0</td>\n",
       "      <td>0</td>\n",
       "      <td>0</td>\n",
       "      <td>0</td>\n",
       "      <td>0</td>\n",
       "      <td>0</td>\n",
       "      <td>0</td>\n",
       "      <td>...</td>\n",
       "      <td>0</td>\n",
       "      <td>0</td>\n",
       "      <td>0</td>\n",
       "      <td>0</td>\n",
       "      <td>0</td>\n",
       "      <td>0</td>\n",
       "      <td>0</td>\n",
       "      <td>0</td>\n",
       "      <td>0</td>\n",
       "      <td>0</td>\n",
       "    </tr>\n",
       "  </tbody>\n",
       "</table>\n",
       "<p>5 rows × 486 columns</p>\n",
       "</div>"
      ],
      "text/plain": [
       "                    0001  0002  0003  0004  0005  0006  0007  0008  0009  \\\n",
       "link_source_pep_id                                                         \n",
       "0001                   1     1     0     0     0     0     1     1     1   \n",
       "0002                   1     0     1     1     1     0     0     0     0   \n",
       "0003                   0     0     0     0     0     0     0     0     0   \n",
       "0004                   0     0     0     0     0     0     0     0     0   \n",
       "0005                   0     0     0     0     0     0     0     0     0   \n",
       "\n",
       "                    0010  ...   8001  8002  8010  8011  8012  8013  8014  \\\n",
       "link_source_pep_id        ...                                              \n",
       "0001                   0  ...      0     0     0     0     0     0     0   \n",
       "0002                   0  ...      0     0     0     0     0     0     0   \n",
       "0003                   0  ...      0     0     0     0     0     0     0   \n",
       "0004                   0  ...      0     0     0     0     0     0     0   \n",
       "0005                   0  ...      0     0     0     0     0     0     0   \n",
       "\n",
       "                    8015  8016  8100  \n",
       "link_source_pep_id                    \n",
       "0001                   0     0     0  \n",
       "0002                   0     0     0  \n",
       "0003                   0     0     0  \n",
       "0004                   0     0     0  \n",
       "0005                   0     0     0  \n",
       "\n",
       "[5 rows x 486 columns]"
      ]
     },
     "execution_count": 4,
     "metadata": {},
     "output_type": "execute_result"
    }
   ],
   "source": [
    "adj_df = adj_df.mask(adj_df > 0).fillna(1).astype(int)\n",
    "adj_df.head(5)"
   ]
  },
  {
   "cell_type": "markdown",
   "metadata": {},
   "source": [
    "## Convert Pandas to NetworkX"
   ]
  },
  {
   "cell_type": "markdown",
   "metadata": {
    "ExecuteTime": {
     "end_time": "2019-04-25T05:18:26.767601Z",
     "start_time": "2019-04-25T05:18:26.719828Z"
    }
   },
   "source": [
    "### Convert\n",
    "NetworkX has functions to convert various data into graph structure.   \n",
    "\n",
    "** Converting to and from other data formats**   \n",
    "https://networkx.github.io/documentation/stable/reference/convert.html   \n",
    "\n",
    "\n",
    "If you want to convert pandas DataFrame, you can use `from_pandas_adjacency` or `from_pandas_edgelist`.   \n",
    "Here, let us introduce the cases of using `from_pandas_adjacency`.\n",
    "\n",
    "** nx.from_pandas_adjacency **   \n",
    "- https://networkx.github.io/documentation/stable/reference/generated/networkx.convert_matrix.from_pandas_adjacency.html"
   ]
  },
  {
   "cell_type": "code",
   "execution_count": 5,
   "metadata": {
    "ExecuteTime": {
     "end_time": "2019-04-25T09:35:59.404780Z",
     "start_time": "2019-04-25T09:35:59.334516Z"
    }
   },
   "outputs": [
    {
     "name": "stdout",
     "output_type": "stream",
     "text": [
      "Name: \n",
      "Type: DiGraph\n",
      "Number of nodes: 486\n",
      "Number of edges: 1037\n",
      "Average in degree:   2.1337\n",
      "Average out degree:   2.1337\n"
     ]
    }
   ],
   "source": [
    "# Convert\n",
    "pep_graph = nx.from_pandas_adjacency(adj_df, create_using=nx.DiGraph)\n",
    "print(nx.info(pep_graph))"
   ]
  },
  {
   "cell_type": "markdown",
   "metadata": {},
   "source": [
    "### Preprocess (Remove Self-loop)\n",
    "\n",
    "<img src=\"../images/self-loop.png\">\n",
    "\n",
    "This case doesn't deal with self-loops. Therefore, remove them as follows."
   ]
  },
  {
   "cell_type": "code",
   "execution_count": 6,
   "metadata": {
    "ExecuteTime": {
     "end_time": "2019-04-25T09:36:00.235177Z",
     "start_time": "2019-04-25T09:36:00.221828Z"
    }
   },
   "outputs": [
    {
     "name": "stdout",
     "output_type": "stream",
     "text": [
      "self loop: 73\n",
      "Name: \n",
      "Type: DiGraph\n",
      "Number of nodes: 486\n",
      "Number of edges: 964\n",
      "Average in degree:   1.9835\n",
      "Average out degree:   1.9835\n"
     ]
    }
   ],
   "source": [
    "def remove_self_loop(source_graph):\n",
    "    # Get self-loop edge\n",
    "    self_loop_edges = [(start, end) for start, end in source_graph.edges() if start == end]\n",
    "    print('self loop: {}'.format(len(self_loop_edges)))\n",
    "\n",
    "    # Remove\n",
    "    for start, end in self_loop_edges:\n",
    "        source_graph.remove_edge(start, end)\n",
    "\n",
    "remove_self_loop(pep_graph)\n",
    "\n",
    "# Confirm\n",
    "print(nx.info(pep_graph))"
   ]
  },
  {
   "cell_type": "markdown",
   "metadata": {},
   "source": [
    "73 self-loops were found and removed.   \n",
    "The number of edges decreased from 1037 to 964."
   ]
  },
  {
   "cell_type": "markdown",
   "metadata": {},
   "source": [
    "### Confirm"
   ]
  },
  {
   "cell_type": "code",
   "execution_count": 7,
   "metadata": {
    "ExecuteTime": {
     "end_time": "2019-04-25T09:36:01.374929Z",
     "start_time": "2019-04-25T09:36:01.366704Z"
    }
   },
   "outputs": [
    {
     "data": {
      "text/plain": [
       "['0001', '0002', '0003', '0004', '0005']"
      ]
     },
     "execution_count": 7,
     "metadata": {},
     "output_type": "execute_result"
    }
   ],
   "source": [
    "# Confirm Nodes\n",
    "list(pep_graph.nodes())[:5]"
   ]
  },
  {
   "cell_type": "code",
   "execution_count": 8,
   "metadata": {
    "ExecuteTime": {
     "end_time": "2019-04-25T09:36:02.201249Z",
     "start_time": "2019-04-25T09:36:02.185954Z"
    }
   },
   "outputs": [
    {
     "data": {
      "text/plain": [
       "AtlasView({'0002': {'weight': 1}, '0007': {'weight': 1}, '0008': {'weight': 1}, '0009': {'weight': 1}, '0012': {'weight': 1}, '0013': {'weight': 1}, '0411': {'weight': 1}})"
      ]
     },
     "execution_count": 8,
     "metadata": {},
     "output_type": "execute_result"
    }
   ],
   "source": [
    "# Confirm edges connected to '\"PEP 1\" node\n",
    "pep_graph['0001']"
   ]
  },
  {
   "cell_type": "markdown",
   "metadata": {
    "slideshow": {
     "slide_type": "slide"
    }
   },
   "source": [
    "# Set PEP Headers as Node Attributes\n",
    "## PEP Headers\n",
    "PEP headers are written at the beginning of each PEP page.   \n",
    "\n",
    "<img src=\"../images/pep_header.png\">\n",
    "\n",
    "The specification is defined in PEP 1.\n",
    "\n",
    "**PEP 1 -- PEP Purpose and Guidelines**   \n",
    "https://www.python.org/dev/peps/pep-0001/#pep-header-preamble"
   ]
  },
  {
   "cell_type": "markdown",
   "metadata": {
    "ExecuteTime": {
     "end_time": "2019-04-25T05:53:13.995530Z",
     "start_time": "2019-04-25T05:53:13.977372Z"
    }
   },
   "source": [
    "## Load"
   ]
  },
  {
   "cell_type": "code",
   "execution_count": 9,
   "metadata": {
    "ExecuteTime": {
     "end_time": "2019-04-25T09:36:03.855283Z",
     "start_time": "2019-04-25T09:36:03.781877Z"
    },
    "slideshow": {
     "slide_type": "slide"
    }
   },
   "outputs": [
    {
     "data": {
      "text/html": [
       "<div>\n",
       "<style scoped>\n",
       "    .dataframe tbody tr th:only-of-type {\n",
       "        vertical-align: middle;\n",
       "    }\n",
       "\n",
       "    .dataframe tbody tr th {\n",
       "        vertical-align: top;\n",
       "    }\n",
       "\n",
       "    .dataframe thead th {\n",
       "        text-align: right;\n",
       "    }\n",
       "</style>\n",
       "<table border=\"1\" class=\"dataframe\">\n",
       "  <thead>\n",
       "    <tr style=\"text-align: right;\">\n",
       "      <th></th>\n",
       "      <th>Author</th>\n",
       "      <th>BDFL-Delegate</th>\n",
       "      <th>Created</th>\n",
       "      <th>Created_dt</th>\n",
       "      <th>Discussions-To</th>\n",
       "      <th>Last-Modified</th>\n",
       "      <th>PEP</th>\n",
       "      <th>Post-History</th>\n",
       "      <th>Python-Version</th>\n",
       "      <th>Replaces</th>\n",
       "      <th>Requires</th>\n",
       "      <th>Resolution</th>\n",
       "      <th>Sponsor</th>\n",
       "      <th>Status</th>\n",
       "      <th>Superseded-By</th>\n",
       "      <th>Title</th>\n",
       "      <th>Type</th>\n",
       "      <th>Version</th>\n",
       "    </tr>\n",
       "    <tr>\n",
       "      <th>pep_id</th>\n",
       "      <th></th>\n",
       "      <th></th>\n",
       "      <th></th>\n",
       "      <th></th>\n",
       "      <th></th>\n",
       "      <th></th>\n",
       "      <th></th>\n",
       "      <th></th>\n",
       "      <th></th>\n",
       "      <th></th>\n",
       "      <th></th>\n",
       "      <th></th>\n",
       "      <th></th>\n",
       "      <th></th>\n",
       "      <th></th>\n",
       "      <th></th>\n",
       "      <th></th>\n",
       "      <th></th>\n",
       "    </tr>\n",
       "  </thead>\n",
       "  <tbody>\n",
       "    <tr>\n",
       "      <th>0515</th>\n",
       "      <td>Georg Brandl, Serhiy Storchaka</td>\n",
       "      <td>NaN</td>\n",
       "      <td>10-Feb-2016</td>\n",
       "      <td>2016-02-10</td>\n",
       "      <td>NaN</td>\n",
       "      <td>NaN</td>\n",
       "      <td>515</td>\n",
       "      <td>10-Feb-2016, 11-Feb-2016</td>\n",
       "      <td>3.6</td>\n",
       "      <td>NaN</td>\n",
       "      <td>NaN</td>\n",
       "      <td>NaN</td>\n",
       "      <td>NaN</td>\n",
       "      <td>Final</td>\n",
       "      <td>NaN</td>\n",
       "      <td>Underscores in Numeric Literals</td>\n",
       "      <td>Standards Track</td>\n",
       "      <td>NaN</td>\n",
       "    </tr>\n",
       "    <tr>\n",
       "      <th>0483</th>\n",
       "      <td>Guido van Rossum &lt;guido at python.org&gt;, Ivan L...</td>\n",
       "      <td>NaN</td>\n",
       "      <td>19-Dec-2014</td>\n",
       "      <td>2014-12-19</td>\n",
       "      <td>Python-Ideas &lt;python-ideas at python.org&gt;</td>\n",
       "      <td>NaN</td>\n",
       "      <td>483</td>\n",
       "      <td>NaN</td>\n",
       "      <td>NaN</td>\n",
       "      <td>NaN</td>\n",
       "      <td>NaN</td>\n",
       "      <td>NaN</td>\n",
       "      <td>NaN</td>\n",
       "      <td>Final</td>\n",
       "      <td>NaN</td>\n",
       "      <td>The Theory of Type Hints</td>\n",
       "      <td>Informational</td>\n",
       "      <td>NaN</td>\n",
       "    </tr>\n",
       "    <tr>\n",
       "      <th>0403</th>\n",
       "      <td>Nick Coghlan &lt;ncoghlan at gmail.com&gt;</td>\n",
       "      <td>NaN</td>\n",
       "      <td>2011-10-13</td>\n",
       "      <td>2011-10-13</td>\n",
       "      <td>NaN</td>\n",
       "      <td>NaN</td>\n",
       "      <td>403</td>\n",
       "      <td>2011-10-13</td>\n",
       "      <td>3.4</td>\n",
       "      <td>NaN</td>\n",
       "      <td>NaN</td>\n",
       "      <td>TBD</td>\n",
       "      <td>NaN</td>\n",
       "      <td>Deferred</td>\n",
       "      <td>NaN</td>\n",
       "      <td>General purpose decorator clause (aka \"@in\" cl...</td>\n",
       "      <td>Standards Track</td>\n",
       "      <td>NaN</td>\n",
       "    </tr>\n",
       "  </tbody>\n",
       "</table>\n",
       "</div>"
      ],
      "text/plain": [
       "                                                   Author BDFL-Delegate  \\\n",
       "pep_id                                                                    \n",
       "0515                       Georg Brandl, Serhiy Storchaka           NaN   \n",
       "0483    Guido van Rossum <guido at python.org>, Ivan L...           NaN   \n",
       "0403                 Nick Coghlan <ncoghlan at gmail.com>           NaN   \n",
       "\n",
       "            Created Created_dt                             Discussions-To  \\\n",
       "pep_id                                                                      \n",
       "0515    10-Feb-2016 2016-02-10                                        NaN   \n",
       "0483    19-Dec-2014 2014-12-19  Python-Ideas <python-ideas at python.org>   \n",
       "0403     2011-10-13 2011-10-13                                        NaN   \n",
       "\n",
       "       Last-Modified  PEP              Post-History Python-Version Replaces  \\\n",
       "pep_id                                                                        \n",
       "0515             NaN  515  10-Feb-2016, 11-Feb-2016            3.6      NaN   \n",
       "0483             NaN  483                       NaN            NaN      NaN   \n",
       "0403             NaN  403                2011-10-13            3.4      NaN   \n",
       "\n",
       "       Requires Resolution Sponsor    Status  Superseded-By  \\\n",
       "pep_id                                                        \n",
       "0515        NaN        NaN     NaN     Final            NaN   \n",
       "0483        NaN        NaN     NaN     Final            NaN   \n",
       "0403        NaN        TBD     NaN  Deferred            NaN   \n",
       "\n",
       "                                                    Title             Type  \\\n",
       "pep_id                                                                       \n",
       "0515                      Underscores in Numeric Literals  Standards Track   \n",
       "0483                             The Theory of Type Hints    Informational   \n",
       "0403    General purpose decorator clause (aka \"@in\" cl...  Standards Track   \n",
       "\n",
       "       Version  \n",
       "pep_id          \n",
       "0515       NaN  \n",
       "0483       NaN  \n",
       "0403       NaN  "
      ]
     },
     "execution_count": 9,
     "metadata": {},
     "output_type": "execute_result"
    }
   ],
   "source": [
    "path = '../data/input/20190401/pep_header.csv'\n",
    "header_df = pd.read_csv(path,\n",
    "                        encoding='utf-8',\n",
    "                        dtype=dict(pep_id=str),\n",
    "                        parse_dates=['Created_dt'])\n",
    "header_df = header_df.set_index('pep_id')\n",
    "header_df.head(3)"
   ]
  },
  {
   "cell_type": "markdown",
   "metadata": {},
   "source": [
    "## Confirm Columns"
   ]
  },
  {
   "cell_type": "code",
   "execution_count": 10,
   "metadata": {
    "ExecuteTime": {
     "end_time": "2019-04-25T09:36:06.302658Z",
     "start_time": "2019-04-25T09:36:06.293905Z"
    }
   },
   "outputs": [
    {
     "data": {
      "text/plain": [
       "['Author',\n",
       " 'BDFL-Delegate',\n",
       " 'Created',\n",
       " 'Created_dt',\n",
       " 'Discussions-To',\n",
       " 'Last-Modified',\n",
       " 'PEP',\n",
       " 'Post-History',\n",
       " 'Python-Version',\n",
       " 'Replaces',\n",
       " 'Requires',\n",
       " 'Resolution',\n",
       " 'Sponsor',\n",
       " 'Status',\n",
       " 'Superseded-By',\n",
       " 'Title',\n",
       " 'Type',\n",
       " 'Version']"
      ]
     },
     "execution_count": 10,
     "metadata": {},
     "output_type": "execute_result"
    }
   ],
   "source": [
    "# Confirm all columns\n",
    "list(header_df.columns)"
   ]
  },
  {
   "cell_type": "markdown",
   "metadata": {
    "slideshow": {
     "slide_type": "-"
    }
   },
   "source": [
    "The following 4 columns are mainly used this time.\n",
    "\n",
    "- Title\n",
    "- Type\n",
    "- Status\n",
    "- Created"
   ]
  },
  {
   "cell_type": "markdown",
   "metadata": {
    "slideshow": {
     "slide_type": "-"
    }
   },
   "source": [
    "### Title\n",
    "- e.g.\n",
    "    - Style Guide for Python Code\n",
    "    - PEP Purpose and Guidelines\n",
    "    - Type Hints"
   ]
  },
  {
   "cell_type": "markdown",
   "metadata": {
    "slideshow": {
     "slide_type": "-"
    }
   },
   "source": [
    "### Type\n",
    "** See Also: 'PEP Types' in PEP 1**   \n",
    "https://www.python.org/dev/peps/pep-0001/#pep-types\n",
    "\n",
    "- **Standards Track**\n",
    "    - PEPs describing a new features or implementation for Python\n",
    "    - e.g.\n",
    "        + PEP 484 Type Hints\n",
    "        + PEP 428 The pathlib module -- object-oriented filesystem paths\n",
    "- **Informational**\n",
    "    - PEPs describing a Python design issue, or providing general guidelines or information to the Python community. But they doesn't propose new features. \n",
    "    - e.g.\n",
    "        + PEP 537 Python 3.7 Release Schedule\n",
    "        + PEP 483 The Theory of Type Hints\n",
    "- **Process**\n",
    "    - describes a process surrounding Python, or proposes a change to (or an event in) a process.\n",
    "    - e.g.\n",
    "        + PEP 1 Purpose and Guidelines\n",
    "        + PEP 545 Python Documentation Translations"
   ]
  },
  {
   "cell_type": "code",
   "execution_count": 11,
   "metadata": {
    "ExecuteTime": {
     "end_time": "2019-04-25T09:36:09.306247Z",
     "start_time": "2019-04-25T09:36:08.644052Z"
    },
    "slideshow": {
     "slide_type": "-"
    }
   },
   "outputs": [
    {
     "data": {
      "text/html": [
       "<style  type=\"text/css\" >\n",
       "    #T_8e7dfabe_673d_11e9_98c8_94942601c652row0_col0 {\n",
       "            width:  10em;\n",
       "             height:  80%;\n",
       "            background:  linear-gradient(90deg,#5fba7d 100.0%, transparent 0%);\n",
       "        }    #T_8e7dfabe_673d_11e9_98c8_94942601c652row1_col0 {\n",
       "            width:  10em;\n",
       "             height:  80%;\n",
       "            background:  linear-gradient(90deg,#5fba7d 10.1%, transparent 0%);\n",
       "        }    #T_8e7dfabe_673d_11e9_98c8_94942601c652row2_col0 {\n",
       "            width:  10em;\n",
       "             height:  80%;\n",
       "        }</style>  \n",
       "<table id=\"T_8e7dfabe_673d_11e9_98c8_94942601c652\" > \n",
       "<thead>    <tr> \n",
       "        <th class=\"blank level0\" ></th> \n",
       "        <th class=\"col_heading level0 col0\" >peps</th> \n",
       "    </tr>    <tr> \n",
       "        <th class=\"index_name level0\" >Type</th> \n",
       "        <th class=\"blank\" ></th> \n",
       "    </tr></thead> \n",
       "<tbody>    <tr> \n",
       "        <th id=\"T_8e7dfabe_673d_11e9_98c8_94942601c652level0_row0\" class=\"row_heading level0 row0\" >Standards Track</th> \n",
       "        <td id=\"T_8e7dfabe_673d_11e9_98c8_94942601c652row0_col0\" class=\"data row0 col0\" >369</td> \n",
       "    </tr>    <tr> \n",
       "        <th id=\"T_8e7dfabe_673d_11e9_98c8_94942601c652level0_row1\" class=\"row_heading level0 row1\" >Informational</th> \n",
       "        <td id=\"T_8e7dfabe_673d_11e9_98c8_94942601c652row1_col0\" class=\"data row1 col0\" >75</td> \n",
       "    </tr>    <tr> \n",
       "        <th id=\"T_8e7dfabe_673d_11e9_98c8_94942601c652level0_row2\" class=\"row_heading level0 row2\" >Process</th> \n",
       "        <td id=\"T_8e7dfabe_673d_11e9_98c8_94942601c652row2_col0\" class=\"data row2 col0\" >42</td> \n",
       "    </tr></tbody> \n",
       "</table> "
      ],
      "text/plain": [
       "<pandas.io.formats.style.Styler at 0x1183cde80>"
      ]
     },
     "execution_count": 11,
     "metadata": {},
     "output_type": "execute_result"
    }
   ],
   "source": [
    "work_df = pd.DataFrame(header_df.groupby('Type').size().sort_values(ascending=False))\n",
    "work_df = work_df.rename(columns={0: 'peps'})\n",
    "work_df.style.bar(color='#5fba7d')"
   ]
  },
  {
   "cell_type": "markdown",
   "metadata": {
    "slideshow": {
     "slide_type": "-"
    }
   },
   "source": [
    "### Status\n",
    "**See Also: 'PEP Workflow' in PEP 1**   \n",
    "https://www.python.org/dev/peps/pep-0001/#pep-workflow\n",
    "\n",
    "<img src=\"../images/pep_flow.png\">"
   ]
  },
  {
   "cell_type": "code",
   "execution_count": 12,
   "metadata": {
    "ExecuteTime": {
     "end_time": "2019-04-25T09:36:11.072011Z",
     "start_time": "2019-04-25T09:36:11.035031Z"
    },
    "slideshow": {
     "slide_type": "-"
    }
   },
   "outputs": [
    {
     "data": {
      "text/html": [
       "<style  type=\"text/css\" >\n",
       "    #T_8f8e539a_673d_11e9_912c_94942601c652row0_col0 {\n",
       "            width:  10em;\n",
       "             height:  80%;\n",
       "            background:  linear-gradient(90deg,#5fba7d 100.0%, transparent 0%);\n",
       "        }    #T_8f8e539a_673d_11e9_912c_94942601c652row1_col0 {\n",
       "            width:  10em;\n",
       "             height:  80%;\n",
       "            background:  linear-gradient(90deg,#5fba7d 45.4%, transparent 0%);\n",
       "        }    #T_8f8e539a_673d_11e9_912c_94942601c652row2_col0 {\n",
       "            width:  10em;\n",
       "             height:  80%;\n",
       "            background:  linear-gradient(90deg,#5fba7d 20.6%, transparent 0%);\n",
       "        }    #T_8f8e539a_673d_11e9_912c_94942601c652row3_col0 {\n",
       "            width:  10em;\n",
       "             height:  80%;\n",
       "            background:  linear-gradient(90deg,#5fba7d 16.5%, transparent 0%);\n",
       "        }    #T_8f8e539a_673d_11e9_912c_94942601c652row4_col0 {\n",
       "            width:  10em;\n",
       "             height:  80%;\n",
       "            background:  linear-gradient(90deg,#5fba7d 13.8%, transparent 0%);\n",
       "        }    #T_8f8e539a_673d_11e9_912c_94942601c652row5_col0 {\n",
       "            width:  10em;\n",
       "             height:  80%;\n",
       "            background:  linear-gradient(90deg,#5fba7d 13.3%, transparent 0%);\n",
       "        }    #T_8f8e539a_673d_11e9_912c_94942601c652row6_col0 {\n",
       "            width:  10em;\n",
       "             height:  80%;\n",
       "            background:  linear-gradient(90deg,#5fba7d 4.1%, transparent 0%);\n",
       "        }    #T_8f8e539a_673d_11e9_912c_94942601c652row7_col0 {\n",
       "            width:  10em;\n",
       "             height:  80%;\n",
       "            background:  linear-gradient(90deg,#5fba7d 3.7%, transparent 0%);\n",
       "        }    #T_8f8e539a_673d_11e9_912c_94942601c652row8_col0 {\n",
       "            width:  10em;\n",
       "             height:  80%;\n",
       "            background:  linear-gradient(90deg,#5fba7d 0.9%, transparent 0%);\n",
       "        }    #T_8f8e539a_673d_11e9_912c_94942601c652row9_col0 {\n",
       "            width:  10em;\n",
       "             height:  80%;\n",
       "        }</style>  \n",
       "<table id=\"T_8f8e539a_673d_11e9_912c_94942601c652\" > \n",
       "<thead>    <tr> \n",
       "        <th class=\"blank level0\" ></th> \n",
       "        <th class=\"col_heading level0 col0\" >peps</th> \n",
       "    </tr>    <tr> \n",
       "        <th class=\"index_name level0\" >Status</th> \n",
       "        <th class=\"blank\" ></th> \n",
       "    </tr></thead> \n",
       "<tbody>    <tr> \n",
       "        <th id=\"T_8f8e539a_673d_11e9_912c_94942601c652level0_row0\" class=\"row_heading level0 row0\" >Final</th> \n",
       "        <td id=\"T_8f8e539a_673d_11e9_912c_94942601c652row0_col0\" class=\"data row0 col0\" >219</td> \n",
       "    </tr>    <tr> \n",
       "        <th id=\"T_8f8e539a_673d_11e9_912c_94942601c652level0_row1\" class=\"row_heading level0 row1\" >Rejected</th> \n",
       "        <td id=\"T_8f8e539a_673d_11e9_912c_94942601c652row1_col0\" class=\"data row1 col0\" >100</td> \n",
       "    </tr>    <tr> \n",
       "        <th id=\"T_8f8e539a_673d_11e9_912c_94942601c652level0_row2\" class=\"row_heading level0 row2\" >Withdrawn</th> \n",
       "        <td id=\"T_8f8e539a_673d_11e9_912c_94942601c652row2_col0\" class=\"data row2 col0\" >46</td> \n",
       "    </tr>    <tr> \n",
       "        <th id=\"T_8f8e539a_673d_11e9_912c_94942601c652level0_row3\" class=\"row_heading level0 row3\" >Deferred</th> \n",
       "        <td id=\"T_8f8e539a_673d_11e9_912c_94942601c652row3_col0\" class=\"data row3 col0\" >37</td> \n",
       "    </tr>    <tr> \n",
       "        <th id=\"T_8f8e539a_673d_11e9_912c_94942601c652level0_row4\" class=\"row_heading level0 row4\" >Active</th> \n",
       "        <td id=\"T_8f8e539a_673d_11e9_912c_94942601c652row4_col0\" class=\"data row4 col0\" >31</td> \n",
       "    </tr>    <tr> \n",
       "        <th id=\"T_8f8e539a_673d_11e9_912c_94942601c652level0_row5\" class=\"row_heading level0 row5\" >Draft</th> \n",
       "        <td id=\"T_8f8e539a_673d_11e9_912c_94942601c652row5_col0\" class=\"data row5 col0\" >30</td> \n",
       "    </tr>    <tr> \n",
       "        <th id=\"T_8f8e539a_673d_11e9_912c_94942601c652level0_row6\" class=\"row_heading level0 row6\" >Accepted</th> \n",
       "        <td id=\"T_8f8e539a_673d_11e9_912c_94942601c652row6_col0\" class=\"data row6 col0\" >10</td> \n",
       "    </tr>    <tr> \n",
       "        <th id=\"T_8f8e539a_673d_11e9_912c_94942601c652level0_row7\" class=\"row_heading level0 row7\" >Superseded</th> \n",
       "        <td id=\"T_8f8e539a_673d_11e9_912c_94942601c652row7_col0\" class=\"data row7 col0\" >9</td> \n",
       "    </tr>    <tr> \n",
       "        <th id=\"T_8f8e539a_673d_11e9_912c_94942601c652level0_row8\" class=\"row_heading level0 row8\" >Provisional</th> \n",
       "        <td id=\"T_8f8e539a_673d_11e9_912c_94942601c652row8_col0\" class=\"data row8 col0\" >3</td> \n",
       "    </tr>    <tr> \n",
       "        <th id=\"T_8f8e539a_673d_11e9_912c_94942601c652level0_row9\" class=\"row_heading level0 row9\" >April Fool!</th> \n",
       "        <td id=\"T_8f8e539a_673d_11e9_912c_94942601c652row9_col0\" class=\"data row9 col0\" >1</td> \n",
       "    </tr></tbody> \n",
       "</table> "
      ],
      "text/plain": [
       "<pandas.io.formats.style.Styler at 0x11861a198>"
      ]
     },
     "execution_count": 12,
     "metadata": {},
     "output_type": "execute_result"
    }
   ],
   "source": [
    "work_df = pd.DataFrame(header_df.groupby('Status').size().sort_values(ascending=False))\n",
    "work_df = work_df.rename(columns={0: 'peps'})\n",
    "work_df.style.bar(color='#5fba7d')"
   ]
  },
  {
   "cell_type": "markdown",
   "metadata": {
    "slideshow": {
     "slide_type": "-"
    }
   },
   "source": [
    "#### Status: April Fool!\n",
    "\n",
    "** PEP 401 -- BDFL Retirement **   \n",
    "https://www.python.org/dev/peps/pep-0401/   \n",
    "\n",
    "joke PEP\n",
    "> Guido leaves Python in the good hands of its new leader and its vibrant community, in order to train for his lifelong dream of climbing Mount Everest."
   ]
  },
  {
   "cell_type": "markdown",
   "metadata": {},
   "source": [
    "### Created (and Created_dt)\n",
    "- Created\n",
    "    - date created on\n",
    "    - raw data\n",
    "- Created_dt\n",
    "    - Preprocessed data"
   ]
  },
  {
   "cell_type": "code",
   "execution_count": 13,
   "metadata": {
    "ExecuteTime": {
     "end_time": "2019-04-25T09:36:12.649984Z",
     "start_time": "2019-04-25T09:36:12.629121Z"
    }
   },
   "outputs": [
    {
     "data": {
      "text/html": [
       "<div>\n",
       "<style scoped>\n",
       "    .dataframe tbody tr th:only-of-type {\n",
       "        vertical-align: middle;\n",
       "    }\n",
       "\n",
       "    .dataframe tbody tr th {\n",
       "        vertical-align: top;\n",
       "    }\n",
       "\n",
       "    .dataframe thead th {\n",
       "        text-align: right;\n",
       "    }\n",
       "</style>\n",
       "<table border=\"1\" class=\"dataframe\">\n",
       "  <thead>\n",
       "    <tr style=\"text-align: right;\">\n",
       "      <th></th>\n",
       "      <th>Created</th>\n",
       "      <th>Created_dt</th>\n",
       "    </tr>\n",
       "    <tr>\n",
       "      <th>pep_id</th>\n",
       "      <th></th>\n",
       "      <th></th>\n",
       "    </tr>\n",
       "  </thead>\n",
       "  <tbody>\n",
       "    <tr>\n",
       "      <th>0515</th>\n",
       "      <td>10-Feb-2016</td>\n",
       "      <td>2016-02-10</td>\n",
       "    </tr>\n",
       "    <tr>\n",
       "      <th>0483</th>\n",
       "      <td>19-Dec-2014</td>\n",
       "      <td>2014-12-19</td>\n",
       "    </tr>\n",
       "    <tr>\n",
       "      <th>0403</th>\n",
       "      <td>2011-10-13</td>\n",
       "      <td>2011-10-13</td>\n",
       "    </tr>\n",
       "    <tr>\n",
       "      <th>0268</th>\n",
       "      <td>20-Aug-2001</td>\n",
       "      <td>2001-08-20</td>\n",
       "    </tr>\n",
       "    <tr>\n",
       "      <th>0244</th>\n",
       "      <td>20-Mar-2001</td>\n",
       "      <td>2001-03-20</td>\n",
       "    </tr>\n",
       "  </tbody>\n",
       "</table>\n",
       "</div>"
      ],
      "text/plain": [
       "            Created Created_dt\n",
       "pep_id                        \n",
       "0515    10-Feb-2016 2016-02-10\n",
       "0483    19-Dec-2014 2014-12-19\n",
       "0403     2011-10-13 2011-10-13\n",
       "0268    20-Aug-2001 2001-08-20\n",
       "0244    20-Mar-2001 2001-03-20"
      ]
     },
     "execution_count": 13,
     "metadata": {},
     "output_type": "execute_result"
    }
   ],
   "source": [
    "header_df[['Created', 'Created_dt']].head(5)"
   ]
  },
  {
   "cell_type": "code",
   "execution_count": 14,
   "metadata": {
    "ExecuteTime": {
     "end_time": "2019-04-25T09:36:14.229881Z",
     "start_time": "2019-04-25T09:36:14.217329Z"
    }
   },
   "outputs": [
    {
     "data": {
      "text/plain": [
       "Created               object\n",
       "Created_dt    datetime64[ns]\n",
       "dtype: object"
      ]
     },
     "execution_count": 14,
     "metadata": {},
     "output_type": "execute_result"
    }
   ],
   "source": [
    "header_df[['Created', 'Created_dt']].dtypes"
   ]
  },
  {
   "cell_type": "markdown",
   "metadata": {
    "slideshow": {
     "slide_type": "-"
    }
   },
   "source": [
    "#### total peps in year"
   ]
  },
  {
   "cell_type": "code",
   "execution_count": 15,
   "metadata": {
    "ExecuteTime": {
     "end_time": "2019-04-25T09:36:16.666580Z",
     "start_time": "2019-04-25T09:36:15.616443Z"
    },
    "slideshow": {
     "slide_type": "-"
    }
   },
   "outputs": [
    {
     "data": {
      "text/plain": [
       "<matplotlib.axes._subplots.AxesSubplot at 0x1174fd1d0>"
      ]
     },
     "execution_count": 15,
     "metadata": {},
     "output_type": "execute_result"
    },
    {
     "data": {
      "image/png": "[encoded data removed]",
      "text/plain": [
       "<Figure size 1080x360 with 1 Axes>"
      ]
     },
     "metadata": {
      "needs_background": "light"
     },
     "output_type": "display_data"
    }
   ],
   "source": [
    "# total peps in year\n",
    "temp_df = header_df.copy()\n",
    "temp_df = temp_df[['Created_dt']]\n",
    "temp_df[\"Created_dt\"] = temp_df[\"Created_dt\"].astype(\"datetime64\")\n",
    "temp_df.groupby(temp_df[\"Created_dt\"].dt.year).count().plot(kind=\"bar\", figsize=(15, 5))"
   ]
  },
  {
   "cell_type": "markdown",
   "metadata": {},
   "source": [
    "### Set node attributes\n",
    "**nx.set_node_attributes function**   \n",
    "https://networkx.github.io/documentation/stable/reference/generated/networkx.classes.function.set_node_attributes.html\n",
    "\n",
    "<img src=\"../images/set_node_attributes.png\">"
   ]
  },
  {
   "cell_type": "code",
   "execution_count": 16,
   "metadata": {
    "ExecuteTime": {
     "end_time": "2019-04-25T09:36:18.194161Z",
     "start_time": "2019-04-25T09:36:18.184945Z"
    },
    "scrolled": true
   },
   "outputs": [
    {
     "name": "stdout",
     "output_type": "stream",
     "text": [
      "Before\n"
     ]
    },
    {
     "data": {
      "text/plain": [
       "{}"
      ]
     },
     "execution_count": 16,
     "metadata": {},
     "output_type": "execute_result"
    }
   ],
   "source": [
    "print('Before')\n",
    "pep_graph.nodes['0001']"
   ]
  },
  {
   "cell_type": "code",
   "execution_count": 17,
   "metadata": {
    "ExecuteTime": {
     "end_time": "2019-04-25T09:36:19.981329Z",
     "start_time": "2019-04-25T09:36:19.760627Z"
    }
   },
   "outputs": [
    {
     "name": "stdout",
     "output_type": "stream",
     "text": [
      "After\n"
     ]
    },
    {
     "data": {
      "text/plain": [
       "{'Author': 'Barry Warsaw, Jeremy Hylton, David Goodger, Nick Coghlan',\n",
       " 'BDFL-Delegate': nan,\n",
       " 'Created': '13-Jun-2000',\n",
       " 'Created_dt': Timestamp('2000-06-13 00:00:00'),\n",
       " 'Discussions-To': nan,\n",
       " 'Last-Modified': nan,\n",
       " 'PEP': 1,\n",
       " 'Post-History': '21-Mar-2001, 29-Jul-2002, 03-May-2003, 05-May-2012,\\n07-Apr-2013',\n",
       " 'Python-Version': nan,\n",
       " 'Replaces': nan,\n",
       " 'Requires': nan,\n",
       " 'Resolution': nan,\n",
       " 'Sponsor': nan,\n",
       " 'Status': 'Active',\n",
       " 'Superseded-By': nan,\n",
       " 'Title': 'PEP Purpose and Guidelines',\n",
       " 'Type': 'Process',\n",
       " 'Version': nan}"
      ]
     },
     "execution_count": 17,
     "metadata": {},
     "output_type": "execute_result"
    }
   ],
   "source": [
    "for column_name, series in header_df.iteritems():\n",
    "    nx.set_node_attributes(pep_graph, dict(series), column_name)\n",
    "\n",
    "print('After')\n",
    "pep_graph.nodes['0001']"
   ]
  },
  {
   "cell_type": "markdown",
   "metadata": {},
   "source": [
    "# Save Graph\n",
    "In the next notebook (`02-draw_network.ipynb`), we will draw the network structure.     \n",
    "Save the data using NetworkX functions for the next notebook.\n",
    "\n",
    "NetworkX has functions to save graph data in various formats.\n",
    "\n",
    "** Reading and writing graphs **\n",
    "https://networkx.github.io/documentation/stable/reference/readwrite/index.html"
   ]
  },
  {
   "cell_type": "code",
   "execution_count": 18,
   "metadata": {
    "ExecuteTime": {
     "end_time": "2019-04-25T09:36:24.870594Z",
     "start_time": "2019-04-25T09:36:24.834015Z"
    }
   },
   "outputs": [],
   "source": [
    "# Save\n",
    "nx.write_gpickle(pep_graph, '../data/output/pep_graph.gpickle')"
   ]
  }
 ],
 "metadata": {
  "celltoolbar": "Slideshow",
  "hide_input": false,
  "kernelspec": {
   "display_name": "Environment (conda_pepmap_env)",
   "language": "python",
   "name": "conda_pepmap_env"
  },
  "language_info": {
   "codemirror_mode": {
    "name": "ipython",
    "version": 3
   },
   "file_extension": ".py",
   "mimetype": "text/x-python",
   "name": "python",
   "nbconvert_exporter": "python",
   "pygments_lexer": "ipython3",
   "version": "3.6.2"
  },
  "nbTranslate": {
   "displayLangs": [
    "*"
   ],
   "hotkey": "alt-t",
   "langInMainMenu": true,
   "sourceLang": "en",
   "targetLang": "fr",
   "useGoogleTranslate": true
  },
  "toc": {
   "base_numbering": 1,
   "nav_menu": {},
   "number_sections": true,
   "sideBar": true,
   "skip_h1_title": false,
   "title_cell": "Table of Contents",
   "title_sidebar": "Contents",
   "toc_cell": false,
   "toc_position": {
    "height": "529px",
    "left": "0px",
    "right": "977px",
    "top": "58px",
    "width": "276px"
   },
   "toc_section_display": "block",
   "toc_window_display": true
  },
  "varInspector": {
   "cols": {
    "lenName": 16,
    "lenType": 16,
    "lenVar": 40
   },
   "kernels_config": {
    "python": {
     "delete_cmd_postfix": "",
     "delete_cmd_prefix": "del ",
     "library": "var_list.py",
     "varRefreshCmd": "print(var_dic_list())"
    },
    "r": {
     "delete_cmd_postfix": ") ",
     "delete_cmd_prefix": "rm(",
     "library": "var_list.r",
     "varRefreshCmd": "cat(var_dic_list()) "
    }
   },
   "types_to_exclude": [
    "module",
    "function",
    "builtin_function_or_method",
    "instance",
    "_Feature"
   ],
   "window_display": false
  }
 },
 "nbformat": 4,
 "nbformat_minor": 2
}
